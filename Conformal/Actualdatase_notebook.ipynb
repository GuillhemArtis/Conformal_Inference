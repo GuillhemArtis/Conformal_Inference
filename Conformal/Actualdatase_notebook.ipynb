{
 "cells": [
  {
   "cell_type": "code",
   "execution_count": 61,
   "metadata": {},
   "outputs": [],
   "source": [
    "import numpy as np\n",
    "import pandas as pd\n",
    "from scipy.stats import spearmanr\n",
    "from sklearn.linear_model import LinearRegression\n",
    "import matplotlib.pyplot as plt"
   ]
  },
  {
   "cell_type": "code",
   "execution_count": 62,
   "metadata": {},
   "outputs": [],
   "source": [
    "X_train = pd.read_csv('X_train.csv')\n",
    "Y_train = pd.read_csv('Y_train.csv')"
   ]
  },
  {
   "cell_type": "code",
   "execution_count": 63,
   "metadata": {},
   "outputs": [],
   "source": [
    "train = pd.concat([X_train , Y_train], axis = 1)"
   ]
  },
  {
   "cell_type": "code",
   "execution_count": 64,
   "metadata": {},
   "outputs": [],
   "source": [
    "train = train.loc[:,['DAY_ID','COUNTRY','DE_CONSUMPTION','FR_CONSUMPTION','DE_FR_EXCHANGE','FR_DE_EXCHANGE','TARGET']]"
   ]
  },
  {
   "cell_type": "code",
   "execution_count": 65,
   "metadata": {},
   "outputs": [],
   "source": [
    "# Fill missing values with 0\n",
    "train.fillna(0, inplace=True)"
   ]
  },
  {
   "cell_type": "code",
   "execution_count": 66,
   "metadata": {},
   "outputs": [],
   "source": [
    "train_de = train[train['COUNTRY'] == 'DE']\n",
    "train_fr = train[train['COUNTRY'] == 'FR']\n"
   ]
  },
  {
   "cell_type": "code",
   "execution_count": 67,
   "metadata": {},
   "outputs": [
    {
     "data": {
      "text/html": [
       "<div>\n",
       "<style scoped>\n",
       "    .dataframe tbody tr th:only-of-type {\n",
       "        vertical-align: middle;\n",
       "    }\n",
       "\n",
       "    .dataframe tbody tr th {\n",
       "        vertical-align: top;\n",
       "    }\n",
       "\n",
       "    .dataframe thead th {\n",
       "        text-align: right;\n",
       "    }\n",
       "</style>\n",
       "<table border=\"1\" class=\"dataframe\">\n",
       "  <thead>\n",
       "    <tr style=\"text-align: right;\">\n",
       "      <th></th>\n",
       "      <th>DAY_ID</th>\n",
       "      <th>COUNTRY</th>\n",
       "      <th>DE_CONSUMPTION</th>\n",
       "      <th>FR_CONSUMPTION</th>\n",
       "      <th>DE_FR_EXCHANGE</th>\n",
       "      <th>FR_DE_EXCHANGE</th>\n",
       "      <th>TARGET</th>\n",
       "    </tr>\n",
       "  </thead>\n",
       "  <tbody>\n",
       "    <tr>\n",
       "      <th>3</th>\n",
       "      <td>720</td>\n",
       "      <td>DE</td>\n",
       "      <td>-0.983324</td>\n",
       "      <td>-0.849198</td>\n",
       "      <td>-0.839586</td>\n",
       "      <td>0.839586</td>\n",
       "      <td>-0.260356</td>\n",
       "    </tr>\n",
       "    <tr>\n",
       "      <th>11</th>\n",
       "      <td>116</td>\n",
       "      <td>DE</td>\n",
       "      <td>-0.055692</td>\n",
       "      <td>-0.811337</td>\n",
       "      <td>0.237105</td>\n",
       "      <td>-0.237105</td>\n",
       "      <td>-0.133381</td>\n",
       "    </tr>\n",
       "    <tr>\n",
       "      <th>12</th>\n",
       "      <td>406</td>\n",
       "      <td>DE</td>\n",
       "      <td>0.532116</td>\n",
       "      <td>-0.331101</td>\n",
       "      <td>0.339942</td>\n",
       "      <td>-0.339942</td>\n",
       "      <td>0.196312</td>\n",
       "    </tr>\n",
       "    <tr>\n",
       "      <th>13</th>\n",
       "      <td>1175</td>\n",
       "      <td>DE</td>\n",
       "      <td>-0.328286</td>\n",
       "      <td>-1.062255</td>\n",
       "      <td>-1.380464</td>\n",
       "      <td>1.380464</td>\n",
       "      <td>-0.025477</td>\n",
       "    </tr>\n",
       "    <tr>\n",
       "      <th>14</th>\n",
       "      <td>309</td>\n",
       "      <td>DE</td>\n",
       "      <td>1.028987</td>\n",
       "      <td>1.629315</td>\n",
       "      <td>1.129663</td>\n",
       "      <td>-1.129663</td>\n",
       "      <td>0.460278</td>\n",
       "    </tr>\n",
       "  </tbody>\n",
       "</table>\n",
       "</div>"
      ],
      "text/plain": [
       "    DAY_ID COUNTRY  DE_CONSUMPTION  FR_CONSUMPTION  DE_FR_EXCHANGE  \\\n",
       "3      720      DE       -0.983324       -0.849198       -0.839586   \n",
       "11     116      DE       -0.055692       -0.811337        0.237105   \n",
       "12     406      DE        0.532116       -0.331101        0.339942   \n",
       "13    1175      DE       -0.328286       -1.062255       -1.380464   \n",
       "14     309      DE        1.028987        1.629315        1.129663   \n",
       "\n",
       "    FR_DE_EXCHANGE    TARGET  \n",
       "3         0.839586 -0.260356  \n",
       "11       -0.237105 -0.133381  \n",
       "12       -0.339942  0.196312  \n",
       "13        1.380464 -0.025477  \n",
       "14       -1.129663  0.460278  "
      ]
     },
     "execution_count": 67,
     "metadata": {},
     "output_type": "execute_result"
    }
   ],
   "source": [
    "train_de.head()"
   ]
  },
  {
   "cell_type": "code",
   "execution_count": 68,
   "metadata": {},
   "outputs": [],
   "source": [
    "target_de = train_de['TARGET']\n",
    "train_de = train_de.drop('TARGET', axis=1)"
   ]
  },
  {
   "cell_type": "code",
   "execution_count": 69,
   "metadata": {},
   "outputs": [
    {
     "data": {
      "text/html": [
       "<div>\n",
       "<style scoped>\n",
       "    .dataframe tbody tr th:only-of-type {\n",
       "        vertical-align: middle;\n",
       "    }\n",
       "\n",
       "    .dataframe tbody tr th {\n",
       "        vertical-align: top;\n",
       "    }\n",
       "\n",
       "    .dataframe thead th {\n",
       "        text-align: right;\n",
       "    }\n",
       "</style>\n",
       "<table border=\"1\" class=\"dataframe\">\n",
       "  <thead>\n",
       "    <tr style=\"text-align: right;\">\n",
       "      <th></th>\n",
       "      <th>DAY_ID</th>\n",
       "      <th>COUNTRY</th>\n",
       "      <th>DE_CONSUMPTION</th>\n",
       "      <th>FR_CONSUMPTION</th>\n",
       "      <th>DE_FR_EXCHANGE</th>\n",
       "      <th>FR_DE_EXCHANGE</th>\n",
       "    </tr>\n",
       "  </thead>\n",
       "  <tbody>\n",
       "    <tr>\n",
       "      <th>3</th>\n",
       "      <td>720</td>\n",
       "      <td>DE</td>\n",
       "      <td>-0.983324</td>\n",
       "      <td>-0.849198</td>\n",
       "      <td>-0.839586</td>\n",
       "      <td>0.839586</td>\n",
       "    </tr>\n",
       "    <tr>\n",
       "      <th>11</th>\n",
       "      <td>116</td>\n",
       "      <td>DE</td>\n",
       "      <td>-0.055692</td>\n",
       "      <td>-0.811337</td>\n",
       "      <td>0.237105</td>\n",
       "      <td>-0.237105</td>\n",
       "    </tr>\n",
       "    <tr>\n",
       "      <th>12</th>\n",
       "      <td>406</td>\n",
       "      <td>DE</td>\n",
       "      <td>0.532116</td>\n",
       "      <td>-0.331101</td>\n",
       "      <td>0.339942</td>\n",
       "      <td>-0.339942</td>\n",
       "    </tr>\n",
       "    <tr>\n",
       "      <th>13</th>\n",
       "      <td>1175</td>\n",
       "      <td>DE</td>\n",
       "      <td>-0.328286</td>\n",
       "      <td>-1.062255</td>\n",
       "      <td>-1.380464</td>\n",
       "      <td>1.380464</td>\n",
       "    </tr>\n",
       "    <tr>\n",
       "      <th>14</th>\n",
       "      <td>309</td>\n",
       "      <td>DE</td>\n",
       "      <td>1.028987</td>\n",
       "      <td>1.629315</td>\n",
       "      <td>1.129663</td>\n",
       "      <td>-1.129663</td>\n",
       "    </tr>\n",
       "  </tbody>\n",
       "</table>\n",
       "</div>"
      ],
      "text/plain": [
       "    DAY_ID COUNTRY  DE_CONSUMPTION  FR_CONSUMPTION  DE_FR_EXCHANGE  \\\n",
       "3      720      DE       -0.983324       -0.849198       -0.839586   \n",
       "11     116      DE       -0.055692       -0.811337        0.237105   \n",
       "12     406      DE        0.532116       -0.331101        0.339942   \n",
       "13    1175      DE       -0.328286       -1.062255       -1.380464   \n",
       "14     309      DE        1.028987        1.629315        1.129663   \n",
       "\n",
       "    FR_DE_EXCHANGE  \n",
       "3         0.839586  \n",
       "11       -0.237105  \n",
       "12       -0.339942  \n",
       "13        1.380464  \n",
       "14       -1.129663  "
      ]
     },
     "execution_count": 69,
     "metadata": {},
     "output_type": "execute_result"
    }
   ],
   "source": [
    "train_de.head()"
   ]
  }
 ],
 "metadata": {
  "kernelspec": {
   "display_name": "Python 3",
   "language": "python",
   "name": "python3"
  },
  "language_info": {
   "codemirror_mode": {
    "name": "ipython",
    "version": 3
   },
   "file_extension": ".py",
   "mimetype": "text/x-python",
   "name": "python",
   "nbconvert_exporter": "python",
   "pygments_lexer": "ipython3",
   "version": "3.11.7"
  }
 },
 "nbformat": 4,
 "nbformat_minor": 2
}
